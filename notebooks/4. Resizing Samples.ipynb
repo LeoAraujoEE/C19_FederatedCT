{
 "cells": [
  {
   "cell_type": "code",
   "execution_count": 1,
   "id": "c21da7ed",
   "metadata": {},
   "outputs": [
    {
     "name": "stderr",
     "output_type": "stream",
     "text": [
      "C:\\Users\\leoar\\AppData\\Local\\Temp\\ipykernel_18192\\2832268761.py:2: DeprecationWarning: Importing display from IPython.core.display is deprecated since IPython 7.14, please import from IPython display\n",
      "  from IPython.core.display import display, HTML\n"
     ]
    },
    {
     "data": {
      "text/html": [
       "<style>.container { width:90% !important; }</style>"
      ],
      "text/plain": [
       "<IPython.core.display.HTML object>"
      ]
     },
     "metadata": {},
     "output_type": "display_data"
    }
   ],
   "source": [
    "# This is used to increase the notebook's width to fill the screen, allowing for better plot visualization\n",
    "from IPython.core.display import display, HTML\n",
    "display(HTML(\"<style>.container { width:90% !important; }</style>\"))\n",
    "\n",
    "import os\n",
    "import cv2\n",
    "import time\n",
    "import shutil\n",
    "import numpy as np\n",
    "import pandas as pd\n",
    "\n",
    "from tqdm import tqdm"
   ]
  },
  {
   "cell_type": "markdown",
   "id": "8d5b99c4",
   "metadata": {},
   "source": [
    "# Path to Dataset"
   ]
  },
  {
   "cell_type": "code",
   "execution_count": 2,
   "id": "ecf4a24b",
   "metadata": {},
   "outputs": [
    {
     "name": "stdout",
     "output_type": "stream",
     "text": [
      "425024\n"
     ]
    },
    {
     "data": {
      "text/html": [
       "<div>\n",
       "<style scoped>\n",
       "    .dataframe tbody tr th:only-of-type {\n",
       "        vertical-align: middle;\n",
       "    }\n",
       "\n",
       "    .dataframe tbody tr th {\n",
       "        vertical-align: top;\n",
       "    }\n",
       "\n",
       "    .dataframe thead th {\n",
       "        text-align: right;\n",
       "    }\n",
       "</style>\n",
       "<table border=\"1\" class=\"dataframe\">\n",
       "  <thead>\n",
       "    <tr style=\"text-align: right;\">\n",
       "      <th></th>\n",
       "      <th>filename</th>\n",
       "      <th>patient_id</th>\n",
       "      <th>source</th>\n",
       "      <th>class</th>\n",
       "      <th>country</th>\n",
       "      <th>sex</th>\n",
       "      <th>age</th>\n",
       "      <th>partition</th>\n",
       "      <th>slice_selection</th>\n",
       "      <th>x_min</th>\n",
       "      <th>y_min</th>\n",
       "      <th>x_max</th>\n",
       "      <th>y_max</th>\n",
       "      <th>verified_finding</th>\n",
       "      <th>view</th>\n",
       "      <th>modality</th>\n",
       "    </tr>\n",
       "  </thead>\n",
       "  <tbody>\n",
       "    <tr>\n",
       "      <th>0</th>\n",
       "      <td>NCP_96_1328_0032.png</td>\n",
       "      <td>NCP_96</td>\n",
       "      <td>CNCB</td>\n",
       "      <td>COVID-19</td>\n",
       "      <td>China</td>\n",
       "      <td>M</td>\n",
       "      <td>74.0</td>\n",
       "      <td>train</td>\n",
       "      <td>Expert</td>\n",
       "      <td>9</td>\n",
       "      <td>94</td>\n",
       "      <td>512</td>\n",
       "      <td>405</td>\n",
       "      <td>Yes</td>\n",
       "      <td>Axial</td>\n",
       "      <td>CT</td>\n",
       "    </tr>\n",
       "    <tr>\n",
       "      <th>1</th>\n",
       "      <td>NCP_96_1328_0035.png</td>\n",
       "      <td>NCP_96</td>\n",
       "      <td>CNCB</td>\n",
       "      <td>COVID-19</td>\n",
       "      <td>China</td>\n",
       "      <td>M</td>\n",
       "      <td>74.0</td>\n",
       "      <td>train</td>\n",
       "      <td>Expert</td>\n",
       "      <td>10</td>\n",
       "      <td>106</td>\n",
       "      <td>512</td>\n",
       "      <td>405</td>\n",
       "      <td>Yes</td>\n",
       "      <td>Axial</td>\n",
       "      <td>CT</td>\n",
       "    </tr>\n",
       "    <tr>\n",
       "      <th>2</th>\n",
       "      <td>NCP_96_1328_0036.png</td>\n",
       "      <td>NCP_96</td>\n",
       "      <td>CNCB</td>\n",
       "      <td>COVID-19</td>\n",
       "      <td>China</td>\n",
       "      <td>M</td>\n",
       "      <td>74.0</td>\n",
       "      <td>train</td>\n",
       "      <td>Expert</td>\n",
       "      <td>10</td>\n",
       "      <td>105</td>\n",
       "      <td>512</td>\n",
       "      <td>406</td>\n",
       "      <td>Yes</td>\n",
       "      <td>Axial</td>\n",
       "      <td>CT</td>\n",
       "    </tr>\n",
       "    <tr>\n",
       "      <th>3</th>\n",
       "      <td>NCP_96_1328_0037.png</td>\n",
       "      <td>NCP_96</td>\n",
       "      <td>CNCB</td>\n",
       "      <td>COVID-19</td>\n",
       "      <td>China</td>\n",
       "      <td>M</td>\n",
       "      <td>74.0</td>\n",
       "      <td>train</td>\n",
       "      <td>Expert</td>\n",
       "      <td>11</td>\n",
       "      <td>104</td>\n",
       "      <td>512</td>\n",
       "      <td>406</td>\n",
       "      <td>Yes</td>\n",
       "      <td>Axial</td>\n",
       "      <td>CT</td>\n",
       "    </tr>\n",
       "    <tr>\n",
       "      <th>4</th>\n",
       "      <td>NCP_96_1328_0038.png</td>\n",
       "      <td>NCP_96</td>\n",
       "      <td>CNCB</td>\n",
       "      <td>COVID-19</td>\n",
       "      <td>China</td>\n",
       "      <td>M</td>\n",
       "      <td>74.0</td>\n",
       "      <td>train</td>\n",
       "      <td>Expert</td>\n",
       "      <td>11</td>\n",
       "      <td>103</td>\n",
       "      <td>512</td>\n",
       "      <td>406</td>\n",
       "      <td>Yes</td>\n",
       "      <td>Axial</td>\n",
       "      <td>CT</td>\n",
       "    </tr>\n",
       "  </tbody>\n",
       "</table>\n",
       "</div>"
      ],
      "text/plain": [
       "               filename patient_id source     class country sex   age  \\\n",
       "0  NCP_96_1328_0032.png     NCP_96   CNCB  COVID-19   China   M  74.0   \n",
       "1  NCP_96_1328_0035.png     NCP_96   CNCB  COVID-19   China   M  74.0   \n",
       "2  NCP_96_1328_0036.png     NCP_96   CNCB  COVID-19   China   M  74.0   \n",
       "3  NCP_96_1328_0037.png     NCP_96   CNCB  COVID-19   China   M  74.0   \n",
       "4  NCP_96_1328_0038.png     NCP_96   CNCB  COVID-19   China   M  74.0   \n",
       "\n",
       "  partition slice_selection  x_min  y_min  x_max  y_max verified_finding  \\\n",
       "0     train          Expert      9     94    512    405              Yes   \n",
       "1     train          Expert     10    106    512    405              Yes   \n",
       "2     train          Expert     10    105    512    406              Yes   \n",
       "3     train          Expert     11    104    512    406              Yes   \n",
       "4     train          Expert     11    103    512    406              Yes   \n",
       "\n",
       "    view modality  \n",
       "0  Axial       CT  \n",
       "1  Axial       CT  \n",
       "2  Axial       CT  \n",
       "3  Axial       CT  \n",
       "4  Axial       CT  "
      ]
     },
     "execution_count": 2,
     "metadata": {},
     "output_type": "execute_result"
    }
   ],
   "source": [
    "# Relative path to dataset\n",
    "data_dir = os.path.join( \"..\", \"..\", \"..\", \"..\", \"Datasets\", \"COVID19\", \"Tomografia\", \"COVIDx CT-3A\" )\n",
    "assert os.path.exists( data_dir ), \"Unable to find the relative path to COVIDx CT-3A, please check data_dir...\"\n",
    "\n",
    "# Path to metadata csv\n",
    "csv_path = os.path.join( data_dir, \"new_split_metadata.csv\" )\n",
    "\n",
    "# Reads metadata as dataframe, \"age\" column is treated as str since \"N/A\" can't be int\n",
    "samples_df = pd.read_csv(csv_path, sep = \";\", na_filter = False, dtype={\"age\": str})\n",
    "print( len(samples_df) )\n",
    "samples_df.head()"
   ]
  },
  {
   "cell_type": "markdown",
   "id": "016e3015",
   "metadata": {},
   "source": [
    "# Resize Images"
   ]
  },
  {
   "cell_type": "code",
   "execution_count": 3,
   "id": "ddf20500",
   "metadata": {},
   "outputs": [],
   "source": [
    "def save_img( exp_path, src_img ):\n",
    "    # Saves the resized image (creates saving directory if needed)\n",
    "    exp_dir = os.path.dirname(exp_path)\n",
    "    if not os.path.exists(exp_dir):\n",
    "        os.makedirs(exp_dir)\n",
    "    cv2.imwrite(exp_path, src_img)\n",
    "    return\n",
    "\n",
    "def resize_samples( df, import_dir, sub_dir, export_dir, dataset, seed = 42 ):\n",
    "    \n",
    "    # Sets a seed for reprodutibility\n",
    "    np.random.seed( seed )\n",
    "    \n",
    "    # Filters inputed df to select only rows from the current source\n",
    "    source_df = df[ df[\"source\"] == dataset ].copy(deep = True)\n",
    "    source_df.reset_index(drop = True, inplace = True)\n",
    "    \n",
    "    # Converts to dict for faster iteration through rows\n",
    "    df_dict = source_df.to_dict( \"records\" )\n",
    "    for row in tqdm(df_dict):\n",
    "        \n",
    "        # Paths to import the original image (512x512) and export the resized one (256x256)\n",
    "        import_path = os.path.join( import_dir, sub_dir, row[\"filename\"] )\n",
    "        export_path_256 = os.path.join( export_dir, \"256x256\", row[\"source\"], row[\"partition\"], row[\"filename\"] )\n",
    "        export_path_512 = os.path.join( export_dir, \"512x512\", row[\"source\"], row[\"partition\"], row[\"filename\"] )\n",
    "        \n",
    "        if os.path.exists(export_path_512) and os.path.exists(export_path_256):\n",
    "            continue\n",
    "        \n",
    "        # Loads original image\n",
    "        src_img = cv2.imread( import_path, -1 )\n",
    "        \n",
    "        # Resizes using a random interpolation method\n",
    "        # As a seed was set at the start, the interpolation for each sample will be the same for every execution\n",
    "        # Used Interpolations are: 0 = INTER_NEAREST, 1 = INTER_LINEAR, 2 = INTER_CUBIC, 3 = INTER_AREA, 4 = INTER_LANCZOS4\n",
    "        dst_512_img = cv2.resize( src_img, (512, 512), interpolation = np.random.randint(0, 5) )\n",
    "        dst_256_img = cv2.resize( src_img, (256, 256), interpolation = np.random.randint(0, 5) )\n",
    "        \n",
    "        # Copies image (creates saving directory if needed)\n",
    "        save_img( export_path_512, dst_512_img )\n",
    "        \n",
    "        # Saves the resized image (creates saving directory if needed)\n",
    "        save_img( export_path_256, dst_256_img )\n",
    "    \n",
    "    # Saving dataset with updated paths\n",
    "    source_df[\"path_512\"] = source_df.apply( lambda row: os.path.join(\"512x512\", row[\"source\"], row[\"partition\"], row[\"filename\"]), axis = 1)\n",
    "    \n",
    "    # Saving dataset with updated paths\n",
    "    source_df[\"path_256\"] = source_df.apply( lambda row: os.path.join(\"256x256\", row[\"source\"], row[\"partition\"], row[\"filename\"]), axis = 1)\n",
    "    \n",
    "    # Saves the dataframe\n",
    "    dataset_csv_path = os.path.join( export_dir, \"{}_data.csv\".format(dataset) )\n",
    "    source_df.to_csv( dataset_csv_path, index = False, sep = \";\" )\n",
    "    \n",
    "    return"
   ]
  },
  {
   "cell_type": "code",
   "execution_count": 4,
   "id": "f651cc47",
   "metadata": {
    "scrolled": false
   },
   "outputs": [
    {
     "name": "stdout",
     "output_type": "stream",
     "text": [
      "1/10 - radiopaedia.org:\n",
      "\n"
     ]
    },
    {
     "name": "stderr",
     "output_type": "stream",
     "text": [
      "100%|████████████████████████████████████████████████████████████████████████████| 3574/3574 [00:02<00:00, 1426.25it/s]\n"
     ]
    },
    {
     "name": "stdout",
     "output_type": "stream",
     "text": [
      "\n",
      "\n",
      "2/10 - iCTCF:\n",
      "\n"
     ]
    },
    {
     "name": "stderr",
     "output_type": "stream",
     "text": [
      "100%|██████████████████████████████████████████████████████████████████████████| 45912/45912 [00:16<00:00, 2720.09it/s]\n"
     ]
    },
    {
     "name": "stdout",
     "output_type": "stream",
     "text": [
      "\n",
      "\n",
      "3/10 - TCIA:\n",
      "\n"
     ]
    },
    {
     "name": "stderr",
     "output_type": "stream",
     "text": [
      "100%|██████████████████████████████████████████████████████████████████████████| 11816/11816 [00:02<00:00, 3939.80it/s]\n"
     ]
    },
    {
     "name": "stdout",
     "output_type": "stream",
     "text": [
      "\n",
      "\n",
      "4/10 - Stony Brook:\n",
      "\n"
     ]
    },
    {
     "name": "stderr",
     "output_type": "stream",
     "text": [
      "100%|██████████████████████████████████████████████████████████████████████████| 14461/14461 [00:06<00:00, 2375.92it/s]\n"
     ]
    },
    {
     "name": "stdout",
     "output_type": "stream",
     "text": [
      "\n",
      "\n",
      "5/10 - STOIC:\n",
      "\n"
     ]
    },
    {
     "name": "stderr",
     "output_type": "stream",
     "text": [
      "100%|████████████████████████████████████████████████████████████████████████| 192361/192361 [01:10<00:00, 2721.63it/s]\n"
     ]
    },
    {
     "name": "stdout",
     "output_type": "stream",
     "text": [
      "\n",
      "\n",
      "6/10 - LIDC-IDRI:\n",
      "\n"
     ]
    },
    {
     "name": "stderr",
     "output_type": "stream",
     "text": [
      "100%|████████████████████████████████████████████████████████████████████████████| 3999/3999 [00:01<00:00, 3376.19it/s]\n"
     ]
    },
    {
     "name": "stdout",
     "output_type": "stream",
     "text": [
      "\n",
      "\n",
      "7/10 - COVID-CTset:\n",
      "\n"
     ]
    },
    {
     "name": "stderr",
     "output_type": "stream",
     "text": [
      "100%|██████████████████████████████████████████████████████████████████████████| 12058/12058 [00:06<00:00, 1778.35it/s]\n"
     ]
    },
    {
     "name": "stdout",
     "output_type": "stream",
     "text": [
      "\n",
      "\n",
      "8/10 - COVID-CT-MD:\n",
      "\n"
     ]
    },
    {
     "name": "stderr",
     "output_type": "stream",
     "text": [
      "100%|██████████████████████████████████████████████████████████████████████████| 23280/23280 [00:10<00:00, 2291.78it/s]\n"
     ]
    },
    {
     "name": "stdout",
     "output_type": "stream",
     "text": [
      "\n",
      "\n",
      "9/10 - COVID-19-CT-Seg:\n",
      "\n"
     ]
    },
    {
     "name": "stderr",
     "output_type": "stream",
     "text": [
      "100%|█████████████████████████████████████████████████████████████████████████████| 1726/1726 [00:02<00:00, 802.40it/s]\n"
     ]
    },
    {
     "name": "stdout",
     "output_type": "stream",
     "text": [
      "\n",
      "\n",
      "10/10 - CNCB:\n",
      "\n"
     ]
    },
    {
     "name": "stderr",
     "output_type": "stream",
     "text": [
      "100%|████████████████████████████████████████████████████████████████████████| 115837/115837 [00:46<00:00, 2483.91it/s]\n"
     ]
    },
    {
     "name": "stdout",
     "output_type": "stream",
     "text": [
      "\n",
      "\n"
     ]
    }
   ],
   "source": [
    "export_dir = os.path.join( \"..\", \"data\", \"classification\" )\n",
    "\n",
    "# List of unique sources (datasets used to build COVIDx CT-2A)\n",
    "source_list = np.unique( samples_df[\"source\"].to_list() )\n",
    "\n",
    "for idx, src in enumerate(reversed(source_list)):\n",
    "    print( \"{}/{} - {}:\\n\".format(idx+1, len(source_list), src) )\n",
    "    resize_samples( samples_df, data_dir, \"3A_images\", export_dir, src )\n",
    "    print(\"\\n\")"
   ]
  },
  {
   "cell_type": "markdown",
   "id": "f2a6ab74",
   "metadata": {},
   "source": [
    "# CSVs for COVIDx CT-2A"
   ]
  },
  {
   "cell_type": "code",
   "execution_count": 5,
   "id": "9925a90d",
   "metadata": {},
   "outputs": [],
   "source": [
    "# # Saving dataset with updated paths\n",
    "# samples_df[\"path\"] = samples_df.apply( lambda row: os.path.join(row[\"source\"], row[\"partition\"], row[\"filename\"]), axis = 1)\n",
    "    \n",
    "# # Saves the dataframe\n",
    "# dataset_csv_path = os.path.join( data_dir, \"resized\", \"metadata.csv\" )\n",
    "# samples_df.to_csv( dataset_csv_path, index = False, sep = \";\" )\n",
    "\n",
    "# for partition in [\"train\", \"val\", \"test\"]:\n",
    "\n",
    "#     # Filters isource_df to select only rows from the current partition\n",
    "#     part_df = samples_df[ samples_df[\"partition\"] == partition ].copy(deep = True)\n",
    "#     part_df.reset_index(drop = True, inplace = True)\n",
    "\n",
    "#     # Saves the dataframe\n",
    "#     part_csv_path = os.path.join( data_dir, \"resized\", \"{}_data.csv\".format(partition) )\n",
    "#     part_df.to_csv( part_csv_path, index = False, sep = \";\" )"
   ]
  },
  {
   "cell_type": "markdown",
   "id": "2cc4b30d",
   "metadata": {},
   "source": [
    "# Verify Paths"
   ]
  },
  {
   "cell_type": "code",
   "execution_count": 6,
   "id": "f5a63222",
   "metadata": {},
   "outputs": [],
   "source": [
    "def check_paths( i_dir, data_source ):\n",
    "    \n",
    "    metadata_csv_path = os.path.join(i_dir, \"{}_data.csv\".format(data_source))\n",
    "    df = pd.read_csv(metadata_csv_path, sep = \";\", na_filter = False, dtype={\"age\": str})\n",
    "    \n",
    "    for path_key in [\"path_256\", \"path_512\"]:\n",
    "    \n",
    "        # List of all paths\n",
    "        path_list = df[path_key].to_list()\n",
    "\n",
    "        # List of paths per partition\n",
    "        train_path_list = df[df[\"partition\"] == \"train\"][path_key].to_list()\n",
    "        val_path_list   = df[df[\"partition\"] ==   \"val\"][path_key].to_list()\n",
    "        test_path_list  = df[df[\"partition\"] ==  \"test\"][path_key].to_list()\n",
    "\n",
    "        for p in tqdm(path_list):\n",
    "\n",
    "            path = os.path.join( i_dir, p )\n",
    "\n",
    "            if not os.path.exists( path ):\n",
    "                print(\"\\n\\tPath '{}' does not exist...\".format(path))\n",
    "\n",
    "            num_partitions = np.sum([ (p in train_path_list), (p in val_path_list), (p in test_path_list) ])\n",
    "\n",
    "            if num_partitions > 1:\n",
    "                print(\"\\n\\tSample '{}' belongs to >1 partition...\".format(path))\n",
    "\n",
    "            if num_partitions < 1:\n",
    "                print(\"\\n\\tSample '{}' does not belong to any partition...\".format(path))\n",
    "    \n",
    "    return"
   ]
  },
  {
   "cell_type": "code",
   "execution_count": 7,
   "id": "3f59f912",
   "metadata": {},
   "outputs": [
    {
     "name": "stdout",
     "output_type": "stream",
     "text": [
      "1/10 - CNCB:\n",
      "\n"
     ]
    },
    {
     "name": "stderr",
     "output_type": "stream",
     "text": [
      "100%|█████████████████████████████████████████████████████████████████████████| 115837/115837 [02:54<00:00, 662.06it/s]\n",
      "100%|█████████████████████████████████████████████████████████████████████████| 115837/115837 [03:07<00:00, 617.18it/s]\n"
     ]
    },
    {
     "name": "stdout",
     "output_type": "stream",
     "text": [
      "\n",
      "\n",
      "\n",
      "2/10 - COVID-19-CT-Seg:\n",
      "\n"
     ]
    },
    {
     "name": "stderr",
     "output_type": "stream",
     "text": [
      "100%|████████████████████████████████████████████████████████████████████████████| 1726/1726 [00:00<00:00, 6470.15it/s]\n",
      "100%|████████████████████████████████████████████████████████████████████████████| 1726/1726 [00:00<00:00, 6492.27it/s]\n"
     ]
    },
    {
     "name": "stdout",
     "output_type": "stream",
     "text": [
      "\n",
      "\n",
      "\n",
      "3/10 - COVID-CT-MD:\n",
      "\n"
     ]
    },
    {
     "name": "stderr",
     "output_type": "stream",
     "text": [
      "100%|██████████████████████████████████████████████████████████████████████████| 23280/23280 [00:10<00:00, 2195.54it/s]\n",
      "100%|██████████████████████████████████████████████████████████████████████████| 23280/23280 [00:11<00:00, 2026.33it/s]\n"
     ]
    },
    {
     "name": "stdout",
     "output_type": "stream",
     "text": [
      "\n",
      "\n",
      "\n",
      "4/10 - COVID-CTset:\n",
      "\n"
     ]
    },
    {
     "name": "stderr",
     "output_type": "stream",
     "text": [
      "100%|██████████████████████████████████████████████████████████████████████████| 12058/12058 [00:03<00:00, 3629.13it/s]\n",
      "100%|██████████████████████████████████████████████████████████████████████████| 12058/12058 [00:03<00:00, 3196.64it/s]\n"
     ]
    },
    {
     "name": "stdout",
     "output_type": "stream",
     "text": [
      "\n",
      "\n",
      "\n",
      "5/10 - LIDC-IDRI:\n",
      "\n"
     ]
    },
    {
     "name": "stderr",
     "output_type": "stream",
     "text": [
      "100%|████████████████████████████████████████████████████████████████████████████| 3999/3999 [00:00<00:00, 4708.76it/s]\n",
      "100%|████████████████████████████████████████████████████████████████████████████| 3999/3999 [00:00<00:00, 4664.42it/s]\n"
     ]
    },
    {
     "name": "stdout",
     "output_type": "stream",
     "text": [
      "\n",
      "\n",
      "\n",
      "6/10 - STOIC:\n",
      "\n"
     ]
    },
    {
     "name": "stderr",
     "output_type": "stream",
     "text": [
      "100%|█████████████████████████████████████████████████████████████████████████| 192361/192361 [08:19<00:00, 385.19it/s]\n",
      "100%|█████████████████████████████████████████████████████████████████████████| 192361/192361 [08:05<00:00, 396.50it/s]\n"
     ]
    },
    {
     "name": "stdout",
     "output_type": "stream",
     "text": [
      "\n",
      "\n",
      "\n",
      "7/10 - Stony Brook:\n",
      "\n"
     ]
    },
    {
     "name": "stderr",
     "output_type": "stream",
     "text": [
      "100%|██████████████████████████████████████████████████████████████████████████| 14461/14461 [00:04<00:00, 3153.05it/s]\n",
      "100%|██████████████████████████████████████████████████████████████████████████| 14461/14461 [00:04<00:00, 3348.68it/s]\n"
     ]
    },
    {
     "name": "stdout",
     "output_type": "stream",
     "text": [
      "\n",
      "\n",
      "\n",
      "8/10 - TCIA:\n",
      "\n"
     ]
    },
    {
     "name": "stderr",
     "output_type": "stream",
     "text": [
      "100%|██████████████████████████████████████████████████████████████████████████| 11816/11816 [00:03<00:00, 3911.74it/s]\n",
      "100%|██████████████████████████████████████████████████████████████████████████| 11816/11816 [00:03<00:00, 3935.33it/s]\n"
     ]
    },
    {
     "name": "stdout",
     "output_type": "stream",
     "text": [
      "\n",
      "\n",
      "\n",
      "9/10 - iCTCF:\n",
      "\n"
     ]
    },
    {
     "name": "stderr",
     "output_type": "stream",
     "text": [
      "100%|██████████████████████████████████████████████████████████████████████████| 45912/45912 [00:32<00:00, 1421.66it/s]\n",
      "100%|██████████████████████████████████████████████████████████████████████████| 45912/45912 [00:32<00:00, 1394.21it/s]\n"
     ]
    },
    {
     "name": "stdout",
     "output_type": "stream",
     "text": [
      "\n",
      "\n",
      "\n",
      "10/10 - radiopaedia.org:\n",
      "\n"
     ]
    },
    {
     "name": "stderr",
     "output_type": "stream",
     "text": [
      "100%|████████████████████████████████████████████████████████████████████████████| 3574/3574 [00:00<00:00, 5223.33it/s]\n",
      "100%|████████████████████████████████████████████████████████████████████████████| 3574/3574 [00:00<00:00, 5863.02it/s]"
     ]
    },
    {
     "name": "stdout",
     "output_type": "stream",
     "text": [
      "\n",
      "\n",
      "\n"
     ]
    },
    {
     "name": "stderr",
     "output_type": "stream",
     "text": [
      "\n"
     ]
    }
   ],
   "source": [
    "dataset_list = list(source_list)\n",
    "\n",
    "# Relative path to dataset\n",
    "image_dir = os.path.join( \"..\", \"data\", \"classification\" )\n",
    "assert os.path.exists( image_dir ), \"Unable to find the relative path to resized images, please check image_dir...\"\n",
    "\n",
    "for idx, dataset_name in enumerate(dataset_list):\n",
    "    print( \"{}/{} - {}:\\n\".format(idx+1, len(dataset_list), dataset_name) )\n",
    "    check_paths( image_dir, dataset_name )\n",
    "    print(\"\\n\\n\")\n",
    "    "
   ]
  }
 ],
 "metadata": {
  "kernelspec": {
   "display_name": "Python 3 (ipykernel)",
   "language": "python",
   "name": "python3"
  },
  "language_info": {
   "codemirror_mode": {
    "name": "ipython",
    "version": 3
   },
   "file_extension": ".py",
   "mimetype": "text/x-python",
   "name": "python",
   "nbconvert_exporter": "python",
   "pygments_lexer": "ipython3",
   "version": "3.9.12"
  },
  "toc": {
   "base_numbering": 1,
   "nav_menu": {},
   "number_sections": true,
   "sideBar": true,
   "skip_h1_title": false,
   "title_cell": "Table of Contents",
   "title_sidebar": "Contents",
   "toc_cell": false,
   "toc_position": {},
   "toc_section_display": true,
   "toc_window_display": false
  }
 },
 "nbformat": 4,
 "nbformat_minor": 5
}
